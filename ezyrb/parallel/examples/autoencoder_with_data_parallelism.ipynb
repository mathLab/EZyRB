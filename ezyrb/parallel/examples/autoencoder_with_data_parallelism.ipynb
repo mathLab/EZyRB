{
 "cells": [
  {
   "cell_type": "markdown",
   "id": "642fbceb",
   "metadata": {},
   "source": [
    "# Autoencoder with data parallelism"
   ]
  },
  {
   "cell_type": "markdown",
   "id": "87e136e0",
   "metadata": {},
   "source": [
    "## A new EZyRB module for non-linear reduction using PyEDDL"
   ]
  },
  {
   "cell_type": "markdown",
   "id": "c5d9d207",
   "metadata": {},
   "source": [
    "PyEDDL library is used to creates autoencoder model `AE_EDDL` that supports data parallelism within the `EZyRB` package; to be used for non-linear dimensionality reduction.\n",
    "\n",
    "The computing service can be easily changed:\n",
    "```python\n",
    "cs = eddl.CS_CPU()       # To use CPU\n",
    "cs = eddl.CS_GPU((1,1))  # To use 2 GPUs\n",
    "```\n",
    "\n",
    "<div class=\"alert alert-block alert-success\"> <b>Note:</b>\n",
    "\n",
    "This module is now combined with PyCOMPSs.\n",
    "</div>"
   ]
  },
  {
   "cell_type": "markdown",
   "id": "142c2083",
   "metadata": {},
   "source": [
    "## Input data:\n",
    "\n",
    "The dataset used in this example is the result of a high-fidelity solution for a 2D flow around a cylinder."
   ]
  },
  {
   "cell_type": "markdown",
   "id": "afda6a75",
   "metadata": {},
   "source": [
    "## Example:"
   ]
  },
  {
   "cell_type": "code",
   "execution_count": 1,
   "id": "7c0ea152",
   "metadata": {
    "scrolled": false
   },
   "outputs": [
    {
     "name": "stdout",
     "output_type": "stream",
     "text": [
      "max cells 3066\n",
      "pts shape (3067, 3)\n",
      "Param Mat shape (59, 1), Snap Mat sape (59, 3067)\n",
      "-------------------------------------------------------------------------------\n",
      "model\n",
      "-------------------------------------------------------------------------------\n",
      "input1|  (3067)              =>   (3067)              0         \n",
      "dense1|  (3067)              =>   (500)               1534000   \n",
      "tanh1 |  (500)               =>   (500)               0         \n",
      "dense2|  (500)               =>   (100)               50100     \n",
      "tanh2 |  (100)               =>   (100)               0         \n",
      "dense3|  (100)               =>   (4)                 404       \n",
      "dense4|  (4)                 =>   (100)               500       \n",
      "tanh3 |  (100)               =>   (100)               0         \n",
      "dense5|  (100)               =>   (500)               50500     \n",
      "tanh4 |  (500)               =>   (500)               0         \n",
      "dense6|  (500)               =>   (3067)              1536567   \n",
      "-------------------------------------------------------------------------------\n",
      "Total params: 3172071\n",
      "Trainable params: 3172071\n",
      "Non-trainable params: 0\n",
      "\n",
      "-------------------------------------------------------------------------------\n",
      "model\n",
      "-------------------------------------------------------------------------------\n",
      "input2|  (4)                 =>   (4)                 0         \n",
      "dense7|  (4)                 =>   (100)               500       \n",
      "tanh5 |  (100)               =>   (100)               0         \n",
      "dense8|  (100)               =>   (500)               50500     \n",
      "tanh6 |  (500)               =>   (500)               0         \n",
      "dense9|  (500)               =>   (3067)              1536567   \n",
      "-------------------------------------------------------------------------------\n",
      "Total params: 1587567\n",
      "Trainable params: 1587567\n",
      "Non-trainable params: 0\n",
      "\n"
     ]
    },
    {
     "name": "stderr",
     "output_type": "stream",
     "text": [
      "Generating Random Table\n",
      "CS with low memory setup\n",
      "Building model\n",
      "CS with low memory setup\n",
      "Building model\n"
     ]
    },
    {
     "data": {
      "image/png": "[encoded data removed]",
      "text/plain": [
       "<Figure size 1440x216 with 3 Axes>"
      ]
     },
     "metadata": {
      "needs_background": "light"
     },
     "output_type": "display_data"
    }
   ],
   "source": [
    "# Libraries\n",
    "import numpy as np\n",
    "import matplotlib.tri as mtri\n",
    "import matplotlib.pyplot as plt\n",
    "plt.rc('font', size = 16)\n",
    "\n",
    "from ezyrb import Database\n",
    "from ezyrb.parallel import ReducedOrderModel as ROM\n",
    "from ezyrb.parallel import AE_EDDL, RBF\n",
    "\n",
    "import torch\n",
    "from torch import nn\n",
    "\n",
    "# Path to find PyEDDL library in PyCOMPSs container\n",
    "import sys  \n",
    "sys.path.append('/usr/local/miniconda3/lib/python3.8/site-packages') \n",
    "from pyeddl import eddl\n",
    "# ----------------------------------------------------------------\n",
    "def plot_triang(triang, sol):\n",
    "    plt.figure(figsize=(20, 5))\n",
    "#     plt.triplot(triang, 'b-', lw=0.1)\n",
    "    plt.tripcolor(triang, sol);\n",
    "    plt.show()\n",
    "# ----------------------------------------------------------------\n",
    "# Load data as NumPy arrays:\n",
    "# The snapshots represented in rows\n",
    "time = np.load('./data_2d/time.npy')\n",
    "pts = np.load('./data_2d/pts.npy')\n",
    "cells = np.load('./data_2d/cells.npy')\n",
    "snapshots_pressure = np.load('./data_2d/snapshots_pressure.npy')\n",
    "snapshots_vx = np.load('./data_2d/snapshots_vx.npy')\n",
    "snapshots_vy = np.load('./data_2d/snapshots_vy.npy')\n",
    "snapshots_vz = np.load('./data_2d/snapshots_vz.npy')\n",
    "\n",
    "print('max cells',np.max(cells))\n",
    "print('pts shape', pts.shape)\n",
    "triang = mtri.Triangulation(pts[:, 0], pts[:, 1], triangles=cells)\n",
    "print('Param Mat shape {}, Snap Mat sape {}'.format(time.shape, snapshots_vx.shape))\n",
    "# ----------------------------------------------------------------\n",
    "# Remove snap 55 \n",
    "snapshots_vx_train = np.delete(snapshots_vx,55,0)\n",
    "time_train = np.delete(time,55,0)\n",
    "# ----------------------------------------------------------------\n",
    "db = Database(time_train, snapshots_vx_train)\n",
    "ae = AE_EDDL([500,100,4], [4,100,500], eddl.Tanh, eddl.Tanh,\n",
    "             1000, 5, optimizer=eddl.adam, lr=1e-4,\n",
    "             cs=eddl.CS_CPU, training_type=2)\n",
    "rbf = RBF()\n",
    "rom = ROM(db, ae, rbf)\n",
    "rom.fit()\n",
    "l = [5,25,55]; predictions = [];\n",
    "for element in l:\n",
    "    predictions.append(rom.predict([element]))\n",
    "# ----------------------------------------------------------------\n",
    "fig, ax = plt.subplots(nrows=1, ncols=3, figsize=(20, 3), sharey=True, sharex=True)\n",
    "ax = ax.flatten()\n",
    "for i in range(3):\n",
    "    ax[i].tricontourf(triang, predictions[i], levels=16)\n",
    "    ax[i].set_title(\"('AE','RBF') @ t = {}\".format(l[(i)]))\n",
    "plt.tight_layout()"
   ]
  }
 ],
 "metadata": {
  "hide_input": false,
  "kernelspec": {
   "display_name": "Python 3 (ipykernel)",
   "language": "python",
   "name": "python3"
  },
  "language_info": {
   "codemirror_mode": {
    "name": "ipython",
    "version": 3
   },
   "file_extension": ".py",
   "mimetype": "text/x-python",
   "name": "python",
   "nbconvert_exporter": "python",
   "pygments_lexer": "ipython3",
   "version": "3.9.12"
  },
  "latex_envs": {
   "LaTeX_envs_menu_present": true,
   "autoclose": false,
   "autocomplete": true,
   "bibliofile": "biblio.bib",
   "cite_by": "apalike",
   "current_citInitial": 1,
   "eqLabelWithNumbers": true,
   "eqNumInitial": 1,
   "hotkeys": {
    "equation": "Ctrl-E",
    "itemize": "Ctrl-I"
   },
   "labels_anchors": false,
   "latex_user_defs": false,
   "report_style_numbering": false,
   "user_envs_cfg": false
  },
  "notify_time": "5",
  "toc": {
   "base_numbering": 1,
   "nav_menu": {},
   "number_sections": true,
   "sideBar": true,
   "skip_h1_title": false,
   "title_cell": "Table of Contents",
   "title_sidebar": "Contents",
   "toc_cell": false,
   "toc_position": {
    "height": "calc(100% - 180px)",
    "left": "10px",
    "top": "150px",
    "width": "235.625px"
   },
   "toc_section_display": true,
   "toc_window_display": true
  },
  "varInspector": {
   "cols": {
    "lenName": 16,
    "lenType": 16,
    "lenVar": 40
   },
   "kernels_config": {
    "python": {
     "delete_cmd_postfix": "",
     "delete_cmd_prefix": "del ",
     "library": "var_list.py",
     "varRefreshCmd": "print(var_dic_list())"
    },
    "r": {
     "delete_cmd_postfix": ") ",
     "delete_cmd_prefix": "rm(",
     "library": "var_list.r",
     "varRefreshCmd": "cat(var_dic_list()) "
    }
   },
   "position": {
    "height": "601.997px",
    "left": "1757.33px",
    "right": "20px",
    "top": "111.993px",
    "width": "350px"
   },
   "types_to_exclude": [
    "module",
    "function",
    "builtin_function_or_method",
    "instance",
    "_Feature"
   ],
   "window_display": false
  }
 },
 "nbformat": 4,
 "nbformat_minor": 5
}
